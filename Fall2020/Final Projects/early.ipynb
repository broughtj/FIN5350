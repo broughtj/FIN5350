{
 "metadata": {
  "language_info": {
   "codemirror_mode": {
    "name": "ipython",
    "version": 3
   },
   "file_extension": ".py",
   "mimetype": "text/x-python",
   "name": "python",
   "nbconvert_exporter": "python",
   "pygments_lexer": "ipython3",
   "version": "3.8.5-final"
  },
  "orig_nbformat": 2,
  "kernelspec": {
   "name": "python3",
   "display_name": "Python 3"
  }
 },
 "nbformat": 4,
 "nbformat_minor": 2,
 "cells": [
  {
   "cell_type": "code",
   "execution_count": 1,
   "metadata": {},
   "outputs": [],
   "source": [
    "import options as opt"
   ]
  },
  {
   "cell_type": "code",
   "execution_count": 2,
   "metadata": {},
   "outputs": [],
   "source": [
    "import numpy as np"
   ]
  },
  {
   "cell_type": "code",
   "execution_count": 3,
   "metadata": {},
   "outputs": [],
   "source": [
    "spot = 41.0\n",
    "strike = 40.0\n",
    "rate = 0.08\n",
    "vol = 0.30\n",
    "div = 0.8\n",
    "expiry = 91/365\n",
    "num = 91"
   ]
  },
  {
   "cell_type": "code",
   "execution_count": 4,
   "metadata": {},
   "outputs": [],
   "source": [
    "call_prc = opt.european_binomial_pricer(spot, strike, expiry, rate, div, vol, num, opt.call_payoff)"
   ]
  },
  {
   "cell_type": "code",
   "execution_count": 5,
   "metadata": {},
   "outputs": [
    {
     "output_type": "execute_result",
     "data": {
      "text/plain": [
       "0.4259978987376895"
      ]
     },
     "metadata": {},
     "execution_count": 5
    }
   ],
   "source": [
    "call_prc"
   ]
  },
  {
   "cell_type": "code",
   "execution_count": 6,
   "metadata": {},
   "outputs": [],
   "source": [
    "amer_call_prc = opt.american_binomial_pricer(spot, strike, expiry, rate, div, vol, num, opt.call_payoff)"
   ]
  },
  {
   "cell_type": "code",
   "execution_count": 7,
   "metadata": {},
   "outputs": [
    {
     "output_type": "execute_result",
     "data": {
      "text/plain": [
       "1.3083604564518185"
      ]
     },
     "metadata": {},
     "execution_count": 7
    }
   ],
   "source": [
    "amer_call_prc"
   ]
  },
  {
   "cell_type": "code",
   "execution_count": 8,
   "metadata": {},
   "outputs": [
    {
     "output_type": "execute_result",
     "data": {
      "text/plain": [
       "0.42396404196842497"
      ]
     },
     "metadata": {},
     "execution_count": 8
    }
   ],
   "source": [
    "opt.black_scholes_call(spot, strike, expiry, rate, div, vol)"
   ]
  },
  {
   "cell_type": "code",
   "execution_count": 9,
   "metadata": {},
   "outputs": [],
   "source": [
    "path = opt.binomial_path(spot, expiry, rate, div, vol, num)"
   ]
  },
  {
   "cell_type": "code",
   "execution_count": 10,
   "metadata": {},
   "outputs": [
    {
     "output_type": "execute_result",
     "data": {
      "text/plain": [
       "array([41.        , 41.56681704, 40.83856523, 41.40315047, 40.6777661 ,\n",
       "       41.24012832, 40.51760011, 41.07774806, 40.35806476, 39.65099032,\n",
       "       40.19915756, 40.75490311, 41.31833174, 40.5944334 , 39.88321778,\n",
       "       40.43459552, 39.72618026, 40.27538699, 40.8321864 , 40.11680534,\n",
       "       40.67141239, 41.23368677, 41.80373448, 41.07133187, 41.63913506,\n",
       "       42.21478802, 42.79839926, 43.39007883, 42.62988342, 43.21923328,\n",
       "       42.46203109, 43.04906043, 43.64420533, 42.87955762, 43.47235918,\n",
       "       44.0733561 , 44.6826617 , 45.30039082, 45.92665993, 46.56158708,\n",
       "       45.74582676, 44.94435859, 45.56570562, 46.19564265, 46.83428844,\n",
       "       46.01375038, 46.64988155, 45.83257431, 45.02958631, 44.24066669,\n",
       "       44.85228532, 44.06647201, 43.29442618, 43.89296321, 44.49977491,\n",
       "       43.72013759, 44.32456001, 43.54799247, 42.78503041, 42.03543547,\n",
       "       41.29897345, 40.57541427, 41.13636149, 41.7050637 , 42.28162811,\n",
       "       42.86616341, 42.11514702, 41.37728845, 41.94932143, 42.52926266,\n",
       "       41.78414877, 41.05208931, 41.61962647, 42.19500973, 42.77834755,\n",
       "       42.02886969, 41.2925227 , 40.56907654, 39.85830517, 39.15998654,\n",
       "       39.70136575, 40.25022943, 40.80668103, 41.37082548, 41.94276911,\n",
       "       42.52261974, 41.77762225, 41.04567713, 41.61312564, 40.88406251,\n",
       "       40.16777258])"
      ]
     },
     "metadata": {},
     "execution_count": 10
    }
   ],
   "source": [
    "path"
   ]
  },
  {
   "cell_type": "code",
   "execution_count": 24,
   "metadata": {},
   "outputs": [],
   "source": [
    "def jike(spot, strike, expiry, rate, div, vol):\n",
    "    tau = 91/365\n",
    "    num = 91\n",
    "    path = opt.binomial_path(spot, expiry, rate, div, vol, num)\n",
    "    call = np.empty(num)\n",
    "\n",
    "    for t in range(num - 1):\n",
    "        tau -= 1/365\n",
    "        num -= 1\n",
    "        call[t] = opt.american_binomial_pricer(path[t], strike, tau, rate, div, vol, num, opt.call_payoff)\n",
    "        payoff = opt.call_payoff(path[t], strike)\n",
    "        if payoff >= call[t]:\n",
    "            first = t\n",
    "            break\n",
    "    \n",
    "    return t"
   ]
  },
  {
   "cell_type": "code",
   "execution_count": 38,
   "metadata": {},
   "outputs": [],
   "source": [
    "reps = 10\n",
    "count = np.zeros(reps)\n",
    "vol = 0.75\n",
    "\n",
    "for i in range(reps):\n",
    "    count[i] = jike(spot, strike, expiry, rate, div, vol)"
   ]
  },
  {
   "cell_type": "code",
   "execution_count": 39,
   "metadata": {},
   "outputs": [
    {
     "output_type": "execute_result",
     "data": {
      "text/plain": [
       "array([87., 23., 87., 42., 15., 87., 76., 11., 83., 23.])"
      ]
     },
     "metadata": {},
     "execution_count": 39
    }
   ],
   "source": [
    "count"
   ]
  },
  {
   "cell_type": "code",
   "execution_count": 40,
   "metadata": {},
   "outputs": [
    {
     "output_type": "execute_result",
     "data": {
      "text/plain": [
       "53.4"
      ]
     },
     "metadata": {},
     "execution_count": 40
    }
   ],
   "source": [
    "np.mean(count)"
   ]
  },
  {
   "cell_type": "code",
   "execution_count": null,
   "metadata": {},
   "outputs": [],
   "source": []
  }
 ]
}