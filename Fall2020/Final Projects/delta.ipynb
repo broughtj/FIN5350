{
 "metadata": {
  "language_info": {
   "codemirror_mode": {
    "name": "ipython",
    "version": 3
   },
   "file_extension": ".py",
   "mimetype": "text/x-python",
   "name": "python",
   "nbconvert_exporter": "python",
   "pygments_lexer": "ipython3",
   "version": "3.8.5-final"
  },
  "orig_nbformat": 2,
  "kernelspec": {
   "name": "python3",
   "display_name": "Python 3"
  }
 },
 "nbformat": 4,
 "nbformat_minor": 2,
 "cells": [
  {
   "cell_type": "code",
   "execution_count": 1,
   "metadata": {},
   "outputs": [],
   "source": [
    "import numpy as np\n",
    "import options as opt"
   ]
  },
  {
   "cell_type": "code",
   "execution_count": 2,
   "metadata": {},
   "outputs": [],
   "source": [
    "spot = 100.0\n",
    "strike = 95.0\n",
    "expiry = 90.0 / 365.0\n",
    "rate = 0.08\n",
    "div = 0.0\n",
    "vol = 0.30\n",
    "num = 10"
   ]
  },
  {
   "cell_type": "code",
   "execution_count": 3,
   "metadata": {},
   "outputs": [],
   "source": [
    "path = opt.binomial_path(spot, expiry, rate, div, vol, num+1)"
   ]
  },
  {
   "cell_type": "code",
   "execution_count": 4,
   "metadata": {},
   "outputs": [
    {
     "output_type": "execute_result",
     "data": {
      "text/plain": [
       "array([100.        , 104.78171933, 109.79208705, 105.15819898,\n",
       "       110.1865689 , 105.53603131, 101.08177445,  96.81551409,\n",
       "        92.72931564,  97.16337124, 101.80945095])"
      ]
     },
     "metadata": {},
     "execution_count": 4
    }
   ],
   "source": [
    "path"
   ]
  },
  {
   "cell_type": "code",
   "execution_count": 5,
   "metadata": {},
   "outputs": [],
   "source": [
    "delta = np.empty(num)\n",
    "tau = 90.0 / 365.0 \n",
    "\n",
    "for t in range(num):\n",
    "    tau -= 1.0 / 365.0 \n",
    "    delta[t] = opt.black_scholes_call_delta(path[t], strike, tau, rate, div, vol)"
   ]
  },
  {
   "cell_type": "code",
   "execution_count": 6,
   "metadata": {},
   "outputs": [
    {
     "output_type": "execute_result",
     "data": {
      "text/plain": [
       "array([0.70952568, 0.80782097, 0.88326168, 0.81590721, 0.88979321,\n",
       "       0.82399269, 0.73645405, 0.62953508, 0.51001312, 0.63885092])"
      ]
     },
     "metadata": {},
     "execution_count": 6
    }
   ],
   "source": [
    "delta"
   ]
  },
  {
   "cell_type": "code",
   "execution_count": 7,
   "metadata": {},
   "outputs": [
    {
     "output_type": "execute_result",
     "data": {
      "text/plain": [
       "(10,)"
      ]
     },
     "metadata": {},
     "execution_count": 7
    }
   ],
   "source": [
    "delta.shape"
   ]
  },
  {
   "cell_type": "code",
   "execution_count": 8,
   "metadata": {},
   "outputs": [
    {
     "output_type": "execute_result",
     "data": {
      "text/plain": [
       "(11,)"
      ]
     },
     "metadata": {},
     "execution_count": 8
    }
   ],
   "source": [
    "path.shape"
   ]
  },
  {
   "cell_type": "code",
   "execution_count": 9,
   "metadata": {},
   "outputs": [
    {
     "output_type": "execute_result",
     "data": {
      "text/plain": [
       "2329.6"
      ]
     },
     "metadata": {},
     "execution_count": 9
    }
   ],
   "source": [
    "58.24*40"
   ]
  },
  {
   "cell_type": "code",
   "execution_count": 10,
   "metadata": {},
   "outputs": [
    {
     "output_type": "execute_result",
     "data": {
      "text/plain": [
       "28.16999999999996"
      ]
     },
     "metadata": {},
     "execution_count": 10
    }
   ],
   "source": [
    "306.21 - 278.04"
   ]
  },
  {
   "cell_type": "code",
   "execution_count": 11,
   "metadata": {},
   "outputs": [
    {
     "output_type": "execute_result",
     "data": {
      "text/plain": [
       "23.296"
      ]
     },
     "metadata": {},
     "execution_count": 11
    }
   ],
   "source": [
    ".5824 * 40.0"
   ]
  },
  {
   "cell_type": "code",
   "execution_count": 12,
   "metadata": {},
   "outputs": [
    {
     "output_type": "execute_result",
     "data": {
      "text/plain": [
       "104.78171932727788"
      ]
     },
     "metadata": {},
     "execution_count": 12
    }
   ],
   "source": [
    "path[1]"
   ]
  },
  {
   "cell_type": "code",
   "execution_count": 16,
   "metadata": {},
   "outputs": [
    {
     "output_type": "execute_result",
     "data": {
      "text/plain": [
       "0.847178032136603"
      ]
     },
     "metadata": {},
     "execution_count": 16
    }
   ],
   "source": [
    "opt.binomial_delta(path[1], strike, 90/365, 0.08, 0.0, 0.3, 92, opt.call_payoff)"
   ]
  },
  {
   "cell_type": "code",
   "execution_count": 14,
   "metadata": {},
   "outputs": [
    {
     "output_type": "execute_result",
     "data": {
      "text/plain": [
       "0.8064181709005149"
      ]
     },
     "metadata": {},
     "execution_count": 14
    }
   ],
   "source": [
    "opt.black_scholes_call_delta(path[1], strike, 90/365, 0.08, 0.0, 0.3)"
   ]
  },
  {
   "cell_type": "code",
   "execution_count": 15,
   "metadata": {},
   "outputs": [
    {
     "output_type": "execute_result",
     "data": {
      "text/plain": [
       "1.0"
      ]
     },
     "metadata": {},
     "execution_count": 15
    }
   ],
   "source": [
    "opt.simple_delta(path[1], strike, 90/365, 0.0, 0.0, 0.3, 3, opt.call_payoff)"
   ]
  },
  {
   "cell_type": "code",
   "execution_count": 17,
   "metadata": {},
   "outputs": [
    {
     "output_type": "execute_result",
     "data": {
      "text/plain": [
       "0.2493150684931507"
      ]
     },
     "metadata": {},
     "execution_count": 17
    }
   ],
   "source": [
    "91/365"
   ]
  },
  {
   "cell_type": "code",
   "execution_count": 21,
   "metadata": {},
   "outputs": [
    {
     "output_type": "stream",
     "name": "stdout",
     "text": [
      "(91, 0.2493150684931507)\n(90, 0.2465753424657534)\n(89, 0.24383561643835616)\n(88, 0.2410958904109589)\n(87, 0.23835616438356164)\n(86, 0.2356164383561644)\n(85, 0.2328767123287671)\n(84, 0.23013698630136986)\n(83, 0.2273972602739726)\n(82, 0.22465753424657534)\n(81, 0.2219178082191781)\n(80, 0.2191780821917808)\n(79, 0.21643835616438356)\n(78, 0.2136986301369863)\n(77, 0.21095890410958903)\n(76, 0.20821917808219179)\n(75, 0.2054794520547945)\n(74, 0.20273972602739726)\n(73, 0.2)\n(72, 0.19726027397260273)\n(71, 0.19452054794520549)\n(70, 0.1917808219178082)\n(69, 0.18904109589041096)\n(68, 0.1863013698630137)\n(67, 0.18356164383561643)\n(66, 0.18082191780821918)\n(65, 0.1780821917808219)\n(64, 0.17534246575342466)\n(63, 0.1726027397260274)\n(62, 0.16986301369863013)\n(61, 0.16712328767123288)\n(60, 0.1643835616438356)\n(59, 0.16164383561643836)\n(58, 0.1589041095890411)\n(57, 0.15616438356164383)\n(56, 0.15342465753424658)\n(55, 0.1506849315068493)\n(54, 0.14794520547945206)\n(53, 0.14520547945205478)\n(52, 0.14246575342465753)\n(51, 0.13972602739726028)\n(50, 0.136986301369863)\n(49, 0.13424657534246576)\n(48, 0.13150684931506848)\n(47, 0.12876712328767123)\n(46, 0.12602739726027398)\n(45, 0.1232876712328767)\n(44, 0.12054794520547946)\n(43, 0.1178082191780822)\n(42, 0.11506849315068493)\n(41, 0.11232876712328767)\n(40, 0.1095890410958904)\n(39, 0.10684931506849316)\n(38, 0.10410958904109589)\n(37, 0.10136986301369863)\n(36, 0.09863013698630137)\n(35, 0.0958904109589041)\n(34, 0.09315068493150686)\n(33, 0.09041095890410959)\n(32, 0.08767123287671233)\n(31, 0.08493150684931507)\n(30, 0.0821917808219178)\n(29, 0.07945205479452055)\n(28, 0.07671232876712329)\n(27, 0.07397260273972603)\n(26, 0.07123287671232877)\n(25, 0.0684931506849315)\n(24, 0.06575342465753424)\n(23, 0.06301369863013699)\n(22, 0.06027397260273973)\n(21, 0.057534246575342465)\n(20, 0.0547945205479452)\n(19, 0.052054794520547946)\n(18, 0.049315068493150684)\n(17, 0.04657534246575343)\n(16, 0.043835616438356165)\n(15, 0.0410958904109589)\n(14, 0.038356164383561646)\n(13, 0.03561643835616438)\n(12, 0.03287671232876712)\n(11, 0.030136986301369864)\n(10, 0.0273972602739726)\n(9, 0.024657534246575342)\n(8, 0.021917808219178082)\n(7, 0.019178082191780823)\n(6, 0.01643835616438356)\n(5, 0.0136986301369863)\n(4, 0.010958904109589041)\n(3, 0.00821917808219178)\n(2, 0.005479452054794521)\n(1, 0.0027397260273972603)\n"
     ]
    }
   ],
   "source": [
    "for t in range(91, 0, -1):\n",
    "    tau = t / 365\n",
    "    print((t, tau))"
   ]
  },
  {
   "cell_type": "code",
   "execution_count": 19,
   "metadata": {},
   "outputs": [
    {
     "output_type": "execute_result",
     "data": {
      "text/plain": [
       "0.0027397260273972603"
      ]
     },
     "metadata": {},
     "execution_count": 19
    }
   ],
   "source": [
    "1/365"
   ]
  },
  {
   "cell_type": "code",
   "execution_count": null,
   "metadata": {},
   "outputs": [],
   "source": []
  }
 ]
}