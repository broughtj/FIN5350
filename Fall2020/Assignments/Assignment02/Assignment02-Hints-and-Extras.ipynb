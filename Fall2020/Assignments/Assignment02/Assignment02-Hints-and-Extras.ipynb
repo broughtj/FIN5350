{
 "cells": [
  {
   "cell_type": "markdown",
   "metadata": {},
   "source": [
    "## Finance 5350: Computational Financial Modeling\n",
    "### Homework 2: Hints & Extra Problems\n",
    "\n",
    "<br>\n"
   ]
  },
  {
   "cell_type": "markdown",
   "metadata": {},
   "source": [
    "Please read [this blog post](https://realpython.com/list-comprehension-python/#using-list-comprehensions) about list comprehensions in Python:"
   ]
  },
  {
   "cell_type": "code",
   "execution_count": 3,
   "metadata": {},
   "outputs": [],
   "source": [
    "import numpy as np"
   ]
  },
  {
   "cell_type": "code",
   "execution_count": 13,
   "metadata": {},
   "outputs": [],
   "source": [
    "## A factory function that builds bonds\n",
    "def bond_factory(face: float, coupon: float, frequency: int, maturity: int) -> np.ndarray:\n",
    "    the_bond = np.full(maturity * frequency, (coupon  * face) / frequency)\n",
    "    the_bond[-1] += face\n",
    "    return the_bond\n",
    "\n",
    "## A function to price bonds given a rate (per period rate)\n",
    "def bond_price(rate: float, the_bond: np.ndarray) -> float:\n",
    "    disc = np.array([1.0 / ((1.0 + rate) ** i) for i in range(1, the_bond.shape[0] + 1)])\n",
    "    return np.dot(disc, the_bond)\n",
    "\n",
    "## A function that solves for the yield-to-maturity of a bond given a market price\n",
    "def bond_yield(the_price: float, the_bond: np.ndarray) -> float:\n",
    "    #cash_flows = np.concatenate((np.array([the_price]), the_bond), axis=None)\n",
    "    tolerance = 10.0**-8\n",
    "    lower = 0.0\n",
    "    upper = 0.2\n",
    "    \n",
    "    # make sure that upper is an actual upper bound\n",
    "    while the_price < bond_price(upper, the_bond):\n",
    "        upper *= 2.0\n",
    "        \n",
    "    # start chopping\n",
    "    guess = 0.5 * (upper + lower)\n",
    "    diff = the_price - bond_price(guess, the_bond)\n",
    "    while abs(diff) > tolerance:\n",
    "        if diff >= 0.0:\n",
    "            upper = guess\n",
    "        else:\n",
    "            lower = guess\n",
    "        guess = 0.5 * (upper + lower)\n",
    "        diff = the_price - bond_price(guess, the_bond) \n",
    "        \n",
    "    return guess"
   ]
  },
  {
   "cell_type": "code",
   "execution_count": 5,
   "metadata": {},
   "outputs": [],
   "source": [
    "face = 1000.0\n",
    "coupon = 0.08\n",
    "maturity = 6\n",
    "frequency = 2"
   ]
  },
  {
   "cell_type": "code",
   "execution_count": 6,
   "metadata": {},
   "outputs": [],
   "source": [
    "the_bond = bond_factory(face, coupon, frequency, maturity)"
   ]
  },
  {
   "cell_type": "code",
   "execution_count": 7,
   "metadata": {},
   "outputs": [
    {
     "data": {
      "text/plain": [
       "array([  40.,   40.,   40.,   40.,   40.,   40.,   40.,   40.,   40.,\n",
       "         40.,   40., 1040.])"
      ]
     },
     "execution_count": 7,
     "metadata": {},
     "output_type": "execute_result"
    }
   ],
   "source": [
    "the_bond"
   ]
  },
  {
   "cell_type": "code",
   "execution_count": 11,
   "metadata": {},
   "outputs": [
    {
     "data": {
      "text/plain": [
       "954.4070960961974"
      ]
     },
     "execution_count": 11,
     "metadata": {},
     "output_type": "execute_result"
    }
   ],
   "source": [
    "the_rate = 0.09\n",
    "the_price = bond_price(the_rate/2.0, the_bond)\n",
    "the_price"
   ]
  },
  {
   "cell_type": "code",
   "execution_count": 15,
   "metadata": {},
   "outputs": [
    {
     "data": {
      "text/plain": [
       "0.08999999999941798"
      ]
     },
     "execution_count": 15,
     "metadata": {},
     "output_type": "execute_result"
    }
   ],
   "source": [
    "frequency * bond_yield(the_price, the_bond)"
   ]
  },
  {
   "cell_type": "code",
   "execution_count": null,
   "metadata": {},
   "outputs": [],
   "source": []
  }
 ],
 "metadata": {
  "kernelspec": {
   "display_name": "Python 3",
   "language": "python",
   "name": "python3"
  },
  "language_info": {
   "codemirror_mode": {
    "name": "ipython",
    "version": 3
   },
   "file_extension": ".py",
   "mimetype": "text/x-python",
   "name": "python",
   "nbconvert_exporter": "python",
   "pygments_lexer": "ipython3",
   "version": "3.8.3"
  }
 },
 "nbformat": 4,
 "nbformat_minor": 4
}
